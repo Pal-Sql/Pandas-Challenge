{
 "cells": [
  {
   "cell_type": "markdown",
   "metadata": {},
   "source": [
    "### Note\n",
    "* Instructions have been included for each segment. You do not have to follow them exactly, but they are included to help you think through the steps."
   ]
  },
  {
   "cell_type": "code",
   "execution_count": 6,
   "metadata": {},
   "outputs": [
    {
     "data": {
      "text/html": [
       "<div>\n",
       "<style scoped>\n",
       "    .dataframe tbody tr th:only-of-type {\n",
       "        vertical-align: middle;\n",
       "    }\n",
       "\n",
       "    .dataframe tbody tr th {\n",
       "        vertical-align: top;\n",
       "    }\n",
       "\n",
       "    .dataframe thead th {\n",
       "        text-align: right;\n",
       "    }\n",
       "</style>\n",
       "<table border=\"1\" class=\"dataframe\">\n",
       "  <thead>\n",
       "    <tr style=\"text-align: right;\">\n",
       "      <th></th>\n",
       "      <th>Purchase ID</th>\n",
       "      <th>SN</th>\n",
       "      <th>Age</th>\n",
       "      <th>Gender</th>\n",
       "      <th>Item ID</th>\n",
       "      <th>Item Name</th>\n",
       "      <th>Price</th>\n",
       "    </tr>\n",
       "  </thead>\n",
       "  <tbody>\n",
       "    <tr>\n",
       "      <th>0</th>\n",
       "      <td>0</td>\n",
       "      <td>Lisim78</td>\n",
       "      <td>20</td>\n",
       "      <td>Male</td>\n",
       "      <td>108</td>\n",
       "      <td>Extraction, Quickblade Of Trembling Hands</td>\n",
       "      <td>3.53</td>\n",
       "    </tr>\n",
       "    <tr>\n",
       "      <th>1</th>\n",
       "      <td>1</td>\n",
       "      <td>Lisovynya38</td>\n",
       "      <td>40</td>\n",
       "      <td>Male</td>\n",
       "      <td>143</td>\n",
       "      <td>Frenzied Scimitar</td>\n",
       "      <td>1.56</td>\n",
       "    </tr>\n",
       "    <tr>\n",
       "      <th>2</th>\n",
       "      <td>2</td>\n",
       "      <td>Ithergue48</td>\n",
       "      <td>24</td>\n",
       "      <td>Male</td>\n",
       "      <td>92</td>\n",
       "      <td>Final Critic</td>\n",
       "      <td>4.88</td>\n",
       "    </tr>\n",
       "    <tr>\n",
       "      <th>3</th>\n",
       "      <td>3</td>\n",
       "      <td>Chamassasya86</td>\n",
       "      <td>24</td>\n",
       "      <td>Male</td>\n",
       "      <td>100</td>\n",
       "      <td>Blindscythe</td>\n",
       "      <td>3.27</td>\n",
       "    </tr>\n",
       "    <tr>\n",
       "      <th>4</th>\n",
       "      <td>4</td>\n",
       "      <td>Iskosia90</td>\n",
       "      <td>23</td>\n",
       "      <td>Male</td>\n",
       "      <td>131</td>\n",
       "      <td>Fury</td>\n",
       "      <td>1.44</td>\n",
       "    </tr>\n",
       "  </tbody>\n",
       "</table>\n",
       "</div>"
      ],
      "text/plain": [
       "   Purchase ID             SN  Age Gender  Item ID  \\\n",
       "0            0        Lisim78   20   Male      108   \n",
       "1            1    Lisovynya38   40   Male      143   \n",
       "2            2     Ithergue48   24   Male       92   \n",
       "3            3  Chamassasya86   24   Male      100   \n",
       "4            4      Iskosia90   23   Male      131   \n",
       "\n",
       "                                   Item Name  Price  \n",
       "0  Extraction, Quickblade Of Trembling Hands   3.53  \n",
       "1                          Frenzied Scimitar   1.56  \n",
       "2                               Final Critic   4.88  \n",
       "3                                Blindscythe   3.27  \n",
       "4                                       Fury   1.44  "
      ]
     },
     "execution_count": 6,
     "metadata": {},
     "output_type": "execute_result"
    }
   ],
   "source": [
    "# Dependencies and Setup\n",
    "import pandas as pd\n",
    "import numpy as np\n",
    "\n",
    "# File to Load (Remember to Change These)\n",
    "file_to_load = \"Resources/purchase_data.csv\"\n",
    "\n",
    "# Read Purchasing File and store into Pandas data frame\n",
    "purchase_data = pd.read_csv(file_to_load)\n",
    "purchase_data_df = pd.DataFrame(purchase_data)\n",
    "purchase_data.head()"
   ]
  },
  {
   "cell_type": "markdown",
   "metadata": {},
   "source": [
    "## Player Count"
   ]
  },
  {
   "cell_type": "markdown",
   "metadata": {},
   "source": [
    "* Display the total number of players\n"
   ]
  },
  {
   "cell_type": "code",
   "execution_count": 7,
   "metadata": {},
   "outputs": [
    {
     "data": {
      "text/plain": [
       "576"
      ]
     },
     "execution_count": 7,
     "metadata": {},
     "output_type": "execute_result"
    }
   ],
   "source": [
    "total_players = purchase_data_df[\"SN\"].nunique()\n",
    "total_players"
   ]
  },
  {
   "cell_type": "markdown",
   "metadata": {},
   "source": [
    "## Purchasing Analysis (Total)"
   ]
  },
  {
   "cell_type": "markdown",
   "metadata": {},
   "source": [
    "* Run basic calculations to obtain number of unique items, average price, etc.\n",
    "\n",
    "\n",
    "* Create a summary data frame to hold the results\n",
    "\n",
    "\n",
    "* Optional: give the displayed data cleaner formatting\n",
    "\n",
    "\n",
    "* Display the summary data frame\n"
   ]
  },
  {
   "cell_type": "code",
   "execution_count": 8,
   "metadata": {
    "scrolled": true
   },
   "outputs": [
    {
     "data": {
      "text/html": [
       "<div>\n",
       "<style scoped>\n",
       "    .dataframe tbody tr th:only-of-type {\n",
       "        vertical-align: middle;\n",
       "    }\n",
       "\n",
       "    .dataframe tbody tr th {\n",
       "        vertical-align: top;\n",
       "    }\n",
       "\n",
       "    .dataframe thead th {\n",
       "        text-align: right;\n",
       "    }\n",
       "</style>\n",
       "<table border=\"1\" class=\"dataframe\">\n",
       "  <thead>\n",
       "    <tr style=\"text-align: right;\">\n",
       "      <th></th>\n",
       "      <th>Number of Unique Items</th>\n",
       "      <th>Average Price</th>\n",
       "      <th>Number of Purchases</th>\n",
       "      <th>Total Revenue</th>\n",
       "    </tr>\n",
       "  </thead>\n",
       "  <tbody>\n",
       "    <tr>\n",
       "      <th>0</th>\n",
       "      <td>179</td>\n",
       "      <td>$3.05</td>\n",
       "      <td>780</td>\n",
       "      <td>$2,379.77</td>\n",
       "    </tr>\n",
       "  </tbody>\n",
       "</table>\n",
       "</div>"
      ],
      "text/plain": [
       "   Number of Unique Items Average Price  Number of Purchases Total Revenue\n",
       "0                     179         $3.05                  780     $2,379.77"
      ]
     },
     "execution_count": 8,
     "metadata": {},
     "output_type": "execute_result"
    }
   ],
   "source": [
    "unique_items = len(purchase_data_df[\"Item ID\"].unique())\n",
    "unique_items\n",
    "\n",
    "total_purchases = purchase_data_df[\"Purchase ID\"].count()\n",
    "total_purchases\n",
    "\n",
    "total_revenue = purchase_data_df[\"Price\"].sum()\n",
    "total_revenue\n",
    "\n",
    "average_price1 = purchase_data_df[\"Price\"].mean()\n",
    "average_price1\n",
    "\n",
    "average_price2 = total_revenue/total_purchases\n",
    "average_price2\n",
    "\n",
    "#create a summary dataframe to hold the results\n",
    "summary_df = pd.DataFrame([{\"Number of Unique Items\": unique_items, \"Average Price\": average_price1,\n",
    "                                      \"Number of Purchases\": total_purchases, \"Total Revenue\": total_revenue}])\n",
    "\n",
    "#Displayed data cleaner formatting\n",
    "summary_df[\"Average Price\"] = summary_df[\"Average Price\"].map(\"${:,.2f}\".format)\n",
    "summary_df[\"Total Revenue\"] = summary_df[\"Total Revenue\"].map(\"${:,.2f}\".format)\n",
    "summary_df\n"
   ]
  },
  {
   "cell_type": "markdown",
   "metadata": {},
   "source": [
    "## Gender Demographics"
   ]
  },
  {
   "cell_type": "markdown",
   "metadata": {},
   "source": [
    "* Percentage and Count of Male Players\n",
    "\n",
    "\n",
    "* Percentage and Count of Female Players\n",
    "\n",
    "\n",
    "* Percentage and Count of Other / Non-Disclosed\n",
    "\n",
    "\n"
   ]
  },
  {
   "cell_type": "code",
   "execution_count": 9,
   "metadata": {},
   "outputs": [
    {
     "data": {
      "text/html": [
       "<style  type=\"text/css\" >\n",
       "</style><table id=\"T_422143ef_9fc8_11eb_86a4_782b4632c2d2\" ><thead>    <tr>        <th class=\"blank level0\" ></th>        <th class=\"col_heading level0 col0\" >Percentage of Players</th>        <th class=\"col_heading level0 col1\" >Total Count</th>    </tr>    <tr>        <th class=\"index_name level0\" >Gender</th>        <th class=\"blank\" ></th>        <th class=\"blank\" ></th>    </tr></thead><tbody>\n",
       "                <tr>\n",
       "                        <th id=\"T_422143ef_9fc8_11eb_86a4_782b4632c2d2level0_row0\" class=\"row_heading level0 row0\" >Male</th>\n",
       "                        <td id=\"T_422143ef_9fc8_11eb_86a4_782b4632c2d2row0_col0\" class=\"data row0 col0\" >84.03%</td>\n",
       "                        <td id=\"T_422143ef_9fc8_11eb_86a4_782b4632c2d2row0_col1\" class=\"data row0 col1\" >484</td>\n",
       "            </tr>\n",
       "            <tr>\n",
       "                        <th id=\"T_422143ef_9fc8_11eb_86a4_782b4632c2d2level0_row1\" class=\"row_heading level0 row1\" >Female</th>\n",
       "                        <td id=\"T_422143ef_9fc8_11eb_86a4_782b4632c2d2row1_col0\" class=\"data row1 col0\" >14.06%</td>\n",
       "                        <td id=\"T_422143ef_9fc8_11eb_86a4_782b4632c2d2row1_col1\" class=\"data row1 col1\" >81</td>\n",
       "            </tr>\n",
       "            <tr>\n",
       "                        <th id=\"T_422143ef_9fc8_11eb_86a4_782b4632c2d2level0_row2\" class=\"row_heading level0 row2\" >Other / Non-Disclosed</th>\n",
       "                        <td id=\"T_422143ef_9fc8_11eb_86a4_782b4632c2d2row2_col0\" class=\"data row2 col0\" >1.91%</td>\n",
       "                        <td id=\"T_422143ef_9fc8_11eb_86a4_782b4632c2d2row2_col1\" class=\"data row2 col1\" >11</td>\n",
       "            </tr>\n",
       "    </tbody></table>"
      ],
      "text/plain": [
       "<pandas.io.formats.style.Styler at 0x1c1f19801c0>"
      ]
     },
     "execution_count": 9,
     "metadata": {},
     "output_type": "execute_result"
    }
   ],
   "source": [
    "#group purchase data by gender\n",
    "gender_stats = purchase_data.groupby(\"Gender\")\n",
    "gender_stats\n",
    "\n",
    "#Count the total of screen names'SN'by gender\n",
    "total_count_gender = gender_stats.nunique()[\"SN\"]\n",
    "total_count_gender\n",
    "\n",
    "#total counts by gender and divide by players\n",
    "percentage_of_players = total_count_gender/total_players*100\n",
    "percentage_of_players\n",
    "\n",
    "#create dataframe with obtained values\n",
    "gender_demographics = pd.DataFrame({\"Percentage of Players\": percentage_of_players, \"Total Count\": total_count_gender})\n",
    "gender_demographics\n",
    "\n",
    "# Format the values sorted by total count in descending order, and two decimal places for the percentage\n",
    "gender_demographics.sort_values([\"Total Count\"], ascending = False).style.format({\"Percentage of Players\":\"{:.2f}%\"})\n"
   ]
  },
  {
   "cell_type": "markdown",
   "metadata": {},
   "source": [
    "\n",
    "## Purchasing Analysis (Gender)"
   ]
  },
  {
   "cell_type": "markdown",
   "metadata": {},
   "source": [
    "* Run basic calculations to obtain purchase count, avg. purchase price, avg. purchase total per person etc. by gender\n",
    "\n",
    "\n",
    "\n",
    "\n",
    "* Create a summary data frame to hold the results\n",
    "\n",
    "\n",
    "* Optional: give the displayed data cleaner formatting\n",
    "\n",
    "\n",
    "* Display the summary data frame"
   ]
  },
  {
   "cell_type": "code",
   "execution_count": 10,
   "metadata": {},
   "outputs": [
    {
     "data": {
      "text/html": [
       "<div>\n",
       "<style scoped>\n",
       "    .dataframe tbody tr th:only-of-type {\n",
       "        vertical-align: middle;\n",
       "    }\n",
       "\n",
       "    .dataframe tbody tr th {\n",
       "        vertical-align: top;\n",
       "    }\n",
       "\n",
       "    .dataframe thead th {\n",
       "        text-align: right;\n",
       "    }\n",
       "</style>\n",
       "<table border=\"1\" class=\"dataframe\">\n",
       "  <thead>\n",
       "    <tr style=\"text-align: right;\">\n",
       "      <th></th>\n",
       "      <th>Purchase Count</th>\n",
       "      <th>Average Purchase Price</th>\n",
       "      <th>Average Purchase Value</th>\n",
       "      <th>Avg Purchase Total per Person</th>\n",
       "    </tr>\n",
       "    <tr>\n",
       "      <th>Gender</th>\n",
       "      <th></th>\n",
       "      <th></th>\n",
       "      <th></th>\n",
       "      <th></th>\n",
       "    </tr>\n",
       "  </thead>\n",
       "  <tbody>\n",
       "    <tr>\n",
       "      <th>Female</th>\n",
       "      <td>113</td>\n",
       "      <td>$3.20</td>\n",
       "      <td>361.94</td>\n",
       "      <td>$4.47</td>\n",
       "    </tr>\n",
       "    <tr>\n",
       "      <th>Male</th>\n",
       "      <td>652</td>\n",
       "      <td>$3.02</td>\n",
       "      <td>1967.64</td>\n",
       "      <td>$4.07</td>\n",
       "    </tr>\n",
       "    <tr>\n",
       "      <th>Other / Non-Disclosed</th>\n",
       "      <td>15</td>\n",
       "      <td>$3.35</td>\n",
       "      <td>50.19</td>\n",
       "      <td>$4.56</td>\n",
       "    </tr>\n",
       "  </tbody>\n",
       "</table>\n",
       "</div>"
      ],
      "text/plain": [
       "                       Purchase Count Average Purchase Price  \\\n",
       "Gender                                                         \n",
       "Female                            113                  $3.20   \n",
       "Male                              652                  $3.02   \n",
       "Other / Non-Disclosed              15                  $3.35   \n",
       "\n",
       "                       Average Purchase Value Avg Purchase Total per Person  \n",
       "Gender                                                                       \n",
       "Female                                 361.94                         $4.47  \n",
       "Male                                  1967.64                         $4.07  \n",
       "Other / Non-Disclosed                   50.19                         $4.56  "
      ]
     },
     "execution_count": 10,
     "metadata": {},
     "output_type": "execute_result"
    }
   ],
   "source": [
    "# Count the total purchases by gender \n",
    "purchase_count = gender_stats[\"Purchase ID\"].count()\n",
    "purchase_count\n",
    "\n",
    "# Average purchase prices by gender\n",
    "avg_purchase_price = gender_stats[\"Price\"].mean()\n",
    "avg_purchase_price\n",
    "\n",
    "# Average purchase total by gender \n",
    "avg_purchase_total = gender_stats[\"Price\"].sum()\n",
    "avg_purchase_total \n",
    "\n",
    "# Average purchase total by gender divided by purchase count \n",
    "avg_purchase_per_person = avg_purchase_total/total_count_gender\n",
    "avg_purchase_per_person \n",
    "\n",
    "# Create summary data frame with obtained values \n",
    "gender_demographics = pd.DataFrame({\"Purchase Count\": purchase_count, \n",
    "                                    \"Average Purchase Price\": avg_purchase_price,\n",
    "                                    \"Average Purchase Value\":avg_purchase_total,\n",
    "                                    \"Avg Purchase Total per Person\": avg_purchase_per_person})\n",
    "gender_demographics \n",
    "\n",
    "#display data cleaner formatting\n",
    "\n",
    "gender_demographics[\"Average Purchase Price\"] = gender_demographics[\"Average Purchase Price\"].map(\"${:,.2f}\".format)\n",
    "gender_demographics[\"Avg Purchase Total per Person\"] = gender_demographics[\"Avg Purchase Total per Person\"].map(\"${:,.2f}\".format)\n",
    "\n",
    "gender_demographics\n"
   ]
  },
  {
   "cell_type": "markdown",
   "metadata": {},
   "source": [
    "## Age Demographics"
   ]
  },
  {
   "cell_type": "markdown",
   "metadata": {},
   "source": [
    "* Establish bins for ages\n",
    "\n",
    "\n",
    "* Categorize the existing players using the age bins. Hint: use pd.cut()\n",
    "\n",
    "\n",
    "* Calculate the numbers and percentages by age group\n",
    "\n",
    "\n",
    "* Create a summary data frame to hold the results\n",
    "\n",
    "\n",
    "* Optional: round the percentage column to two decimal points\n",
    "\n",
    "\n",
    "* Display Age Demographics Table\n"
   ]
  },
  {
   "cell_type": "code",
   "execution_count": 11,
   "metadata": {},
   "outputs": [
    {
     "data": {
      "text/html": [
       "<style  type=\"text/css\" >\n",
       "</style><table id=\"T_422d6518_9fc8_11eb_97ae_782b4632c2d2\" ><thead>    <tr>        <th class=\"blank level0\" ></th>        <th class=\"col_heading level0 col0\" >Total Count</th>        <th class=\"col_heading level0 col1\" >Percentage of Players</th>    </tr>    <tr>        <th class=\"index_name level0\" >Age Group</th>        <th class=\"blank\" ></th>        <th class=\"blank\" ></th>    </tr></thead><tbody>\n",
       "                <tr>\n",
       "                        <th id=\"T_422d6518_9fc8_11eb_97ae_782b4632c2d2level0_row0\" class=\"row_heading level0 row0\" ><10</th>\n",
       "                        <td id=\"T_422d6518_9fc8_11eb_97ae_782b4632c2d2row0_col0\" class=\"data row0 col0\" >17</td>\n",
       "                        <td id=\"T_422d6518_9fc8_11eb_97ae_782b4632c2d2row0_col1\" class=\"data row0 col1\" >2.95%</td>\n",
       "            </tr>\n",
       "            <tr>\n",
       "                        <th id=\"T_422d6518_9fc8_11eb_97ae_782b4632c2d2level0_row1\" class=\"row_heading level0 row1\" >10-14</th>\n",
       "                        <td id=\"T_422d6518_9fc8_11eb_97ae_782b4632c2d2row1_col0\" class=\"data row1 col0\" >22</td>\n",
       "                        <td id=\"T_422d6518_9fc8_11eb_97ae_782b4632c2d2row1_col1\" class=\"data row1 col1\" >3.82%</td>\n",
       "            </tr>\n",
       "            <tr>\n",
       "                        <th id=\"T_422d6518_9fc8_11eb_97ae_782b4632c2d2level0_row2\" class=\"row_heading level0 row2\" >15-19</th>\n",
       "                        <td id=\"T_422d6518_9fc8_11eb_97ae_782b4632c2d2row2_col0\" class=\"data row2 col0\" >107</td>\n",
       "                        <td id=\"T_422d6518_9fc8_11eb_97ae_782b4632c2d2row2_col1\" class=\"data row2 col1\" >18.58%</td>\n",
       "            </tr>\n",
       "            <tr>\n",
       "                        <th id=\"T_422d6518_9fc8_11eb_97ae_782b4632c2d2level0_row3\" class=\"row_heading level0 row3\" >20-24</th>\n",
       "                        <td id=\"T_422d6518_9fc8_11eb_97ae_782b4632c2d2row3_col0\" class=\"data row3 col0\" >258</td>\n",
       "                        <td id=\"T_422d6518_9fc8_11eb_97ae_782b4632c2d2row3_col1\" class=\"data row3 col1\" >44.79%</td>\n",
       "            </tr>\n",
       "            <tr>\n",
       "                        <th id=\"T_422d6518_9fc8_11eb_97ae_782b4632c2d2level0_row4\" class=\"row_heading level0 row4\" >25-29</th>\n",
       "                        <td id=\"T_422d6518_9fc8_11eb_97ae_782b4632c2d2row4_col0\" class=\"data row4 col0\" >77</td>\n",
       "                        <td id=\"T_422d6518_9fc8_11eb_97ae_782b4632c2d2row4_col1\" class=\"data row4 col1\" >13.37%</td>\n",
       "            </tr>\n",
       "            <tr>\n",
       "                        <th id=\"T_422d6518_9fc8_11eb_97ae_782b4632c2d2level0_row5\" class=\"row_heading level0 row5\" >30-34</th>\n",
       "                        <td id=\"T_422d6518_9fc8_11eb_97ae_782b4632c2d2row5_col0\" class=\"data row5 col0\" >52</td>\n",
       "                        <td id=\"T_422d6518_9fc8_11eb_97ae_782b4632c2d2row5_col1\" class=\"data row5 col1\" >9.03%</td>\n",
       "            </tr>\n",
       "            <tr>\n",
       "                        <th id=\"T_422d6518_9fc8_11eb_97ae_782b4632c2d2level0_row6\" class=\"row_heading level0 row6\" >35-39</th>\n",
       "                        <td id=\"T_422d6518_9fc8_11eb_97ae_782b4632c2d2row6_col0\" class=\"data row6 col0\" >31</td>\n",
       "                        <td id=\"T_422d6518_9fc8_11eb_97ae_782b4632c2d2row6_col1\" class=\"data row6 col1\" >5.38%</td>\n",
       "            </tr>\n",
       "            <tr>\n",
       "                        <th id=\"T_422d6518_9fc8_11eb_97ae_782b4632c2d2level0_row7\" class=\"row_heading level0 row7\" >40+</th>\n",
       "                        <td id=\"T_422d6518_9fc8_11eb_97ae_782b4632c2d2row7_col0\" class=\"data row7 col0\" >12</td>\n",
       "                        <td id=\"T_422d6518_9fc8_11eb_97ae_782b4632c2d2row7_col1\" class=\"data row7 col1\" >2.08%</td>\n",
       "            </tr>\n",
       "    </tbody></table>"
      ],
      "text/plain": [
       "<pandas.io.formats.style.Styler at 0x1c1f29ed550>"
      ]
     },
     "execution_count": 11,
     "metadata": {},
     "output_type": "execute_result"
    }
   ],
   "source": [
    "# Establish bins for ages\n",
    "age_bins = [0, 9.90, 14.90, 19.90, 24.90, 29.90, 34.90, 39.90, 99999]\n",
    "age_ranges= [\"<10\", \"10-14\", \"15-19\", \"20-24\", \"25-29\", \"30-34\", \"35-39\", \"40+\"]\n",
    "\n",
    "# Segment and sort age values into bins established above\n",
    "purchase_data[\"Age Group\"] = pd.cut(purchase_data[\"Age\"],age_bins, labels=age_ranges)\n",
    "purchase_data\n",
    "\n",
    "# Create new data frame with the added \"Age Group\" and group it\n",
    "age_grouped = purchase_data.groupby(\"Age Group\")\n",
    "age_grouped\n",
    "\n",
    "# Count total players by age category\n",
    "total_count_age = age_grouped[\"SN\"].nunique()\n",
    "total_count_age\n",
    "\n",
    "# Calculate percentages by age category \n",
    "percentage_by_age = (total_count_age/total_players) * 100\n",
    "percentage_by_age\n",
    "\n",
    "# Create summary data frame with obtained values\n",
    "age_demographics = pd.DataFrame({\"Total Count\": total_count_age,\"Percentage of Players\": percentage_by_age})\n",
    "age_demographics\n",
    "\n",
    "# Format percentage with two decimal places \n",
    "age_demographics.style.format({\"Percentage of Players\":\"{:,.2f}%\"})\n",
    "\n"
   ]
  },
  {
   "cell_type": "markdown",
   "metadata": {},
   "source": [
    "## Purchasing Analysis (Age)"
   ]
  },
  {
   "cell_type": "markdown",
   "metadata": {},
   "source": [
    "* Bin the purchase_data data frame by age\n",
    "\n",
    "\n",
    "* Run basic calculations to obtain purchase count, avg. purchase price, avg. purchase total per person etc. in the table below\n",
    "\n",
    "\n",
    "* Create a summary data frame to hold the results\n",
    "\n",
    "\n",
    "* Optional: give the displayed data cleaner formatting\n",
    "\n",
    "\n",
    "* Display the summary data frame"
   ]
  },
  {
   "cell_type": "code",
   "execution_count": 12,
   "metadata": {},
   "outputs": [
    {
     "data": {
      "text/html": [
       "<style  type=\"text/css\" >\n",
       "</style><table id=\"T_423419eb_9fc8_11eb_bd9d_782b4632c2d2\" ><thead>    <tr>        <th class=\"blank level0\" ></th>        <th class=\"col_heading level0 col0\" >Purchase Count</th>        <th class=\"col_heading level0 col1\" >Average Purchase Price</th>        <th class=\"col_heading level0 col2\" >Total Purchase Value</th>        <th class=\"col_heading level0 col3\" >Average Purchase Total per Person</th>    </tr>    <tr>        <th class=\"index_name level0\" >Age Group</th>        <th class=\"blank\" ></th>        <th class=\"blank\" ></th>        <th class=\"blank\" ></th>        <th class=\"blank\" ></th>    </tr></thead><tbody>\n",
       "                <tr>\n",
       "                        <th id=\"T_423419eb_9fc8_11eb_bd9d_782b4632c2d2level0_row0\" class=\"row_heading level0 row0\" ><10</th>\n",
       "                        <td id=\"T_423419eb_9fc8_11eb_bd9d_782b4632c2d2row0_col0\" class=\"data row0 col0\" >23</td>\n",
       "                        <td id=\"T_423419eb_9fc8_11eb_bd9d_782b4632c2d2row0_col1\" class=\"data row0 col1\" >$3.35</td>\n",
       "                        <td id=\"T_423419eb_9fc8_11eb_bd9d_782b4632c2d2row0_col2\" class=\"data row0 col2\" >$77.13</td>\n",
       "                        <td id=\"T_423419eb_9fc8_11eb_bd9d_782b4632c2d2row0_col3\" class=\"data row0 col3\" >$4.54</td>\n",
       "            </tr>\n",
       "            <tr>\n",
       "                        <th id=\"T_423419eb_9fc8_11eb_bd9d_782b4632c2d2level0_row1\" class=\"row_heading level0 row1\" >10-14</th>\n",
       "                        <td id=\"T_423419eb_9fc8_11eb_bd9d_782b4632c2d2row1_col0\" class=\"data row1 col0\" >28</td>\n",
       "                        <td id=\"T_423419eb_9fc8_11eb_bd9d_782b4632c2d2row1_col1\" class=\"data row1 col1\" >$2.96</td>\n",
       "                        <td id=\"T_423419eb_9fc8_11eb_bd9d_782b4632c2d2row1_col2\" class=\"data row1 col2\" >$82.78</td>\n",
       "                        <td id=\"T_423419eb_9fc8_11eb_bd9d_782b4632c2d2row1_col3\" class=\"data row1 col3\" >$3.76</td>\n",
       "            </tr>\n",
       "            <tr>\n",
       "                        <th id=\"T_423419eb_9fc8_11eb_bd9d_782b4632c2d2level0_row2\" class=\"row_heading level0 row2\" >15-19</th>\n",
       "                        <td id=\"T_423419eb_9fc8_11eb_bd9d_782b4632c2d2row2_col0\" class=\"data row2 col0\" >136</td>\n",
       "                        <td id=\"T_423419eb_9fc8_11eb_bd9d_782b4632c2d2row2_col1\" class=\"data row2 col1\" >$3.04</td>\n",
       "                        <td id=\"T_423419eb_9fc8_11eb_bd9d_782b4632c2d2row2_col2\" class=\"data row2 col2\" >$412.89</td>\n",
       "                        <td id=\"T_423419eb_9fc8_11eb_bd9d_782b4632c2d2row2_col3\" class=\"data row2 col3\" >$3.86</td>\n",
       "            </tr>\n",
       "            <tr>\n",
       "                        <th id=\"T_423419eb_9fc8_11eb_bd9d_782b4632c2d2level0_row3\" class=\"row_heading level0 row3\" >20-24</th>\n",
       "                        <td id=\"T_423419eb_9fc8_11eb_bd9d_782b4632c2d2row3_col0\" class=\"data row3 col0\" >365</td>\n",
       "                        <td id=\"T_423419eb_9fc8_11eb_bd9d_782b4632c2d2row3_col1\" class=\"data row3 col1\" >$3.05</td>\n",
       "                        <td id=\"T_423419eb_9fc8_11eb_bd9d_782b4632c2d2row3_col2\" class=\"data row3 col2\" >$1,114.06</td>\n",
       "                        <td id=\"T_423419eb_9fc8_11eb_bd9d_782b4632c2d2row3_col3\" class=\"data row3 col3\" >$4.32</td>\n",
       "            </tr>\n",
       "            <tr>\n",
       "                        <th id=\"T_423419eb_9fc8_11eb_bd9d_782b4632c2d2level0_row4\" class=\"row_heading level0 row4\" >25-29</th>\n",
       "                        <td id=\"T_423419eb_9fc8_11eb_bd9d_782b4632c2d2row4_col0\" class=\"data row4 col0\" >101</td>\n",
       "                        <td id=\"T_423419eb_9fc8_11eb_bd9d_782b4632c2d2row4_col1\" class=\"data row4 col1\" >$2.90</td>\n",
       "                        <td id=\"T_423419eb_9fc8_11eb_bd9d_782b4632c2d2row4_col2\" class=\"data row4 col2\" >$293.00</td>\n",
       "                        <td id=\"T_423419eb_9fc8_11eb_bd9d_782b4632c2d2row4_col3\" class=\"data row4 col3\" >$3.81</td>\n",
       "            </tr>\n",
       "            <tr>\n",
       "                        <th id=\"T_423419eb_9fc8_11eb_bd9d_782b4632c2d2level0_row5\" class=\"row_heading level0 row5\" >30-34</th>\n",
       "                        <td id=\"T_423419eb_9fc8_11eb_bd9d_782b4632c2d2row5_col0\" class=\"data row5 col0\" >73</td>\n",
       "                        <td id=\"T_423419eb_9fc8_11eb_bd9d_782b4632c2d2row5_col1\" class=\"data row5 col1\" >$2.93</td>\n",
       "                        <td id=\"T_423419eb_9fc8_11eb_bd9d_782b4632c2d2row5_col2\" class=\"data row5 col2\" >$214.00</td>\n",
       "                        <td id=\"T_423419eb_9fc8_11eb_bd9d_782b4632c2d2row5_col3\" class=\"data row5 col3\" >$4.12</td>\n",
       "            </tr>\n",
       "            <tr>\n",
       "                        <th id=\"T_423419eb_9fc8_11eb_bd9d_782b4632c2d2level0_row6\" class=\"row_heading level0 row6\" >35-39</th>\n",
       "                        <td id=\"T_423419eb_9fc8_11eb_bd9d_782b4632c2d2row6_col0\" class=\"data row6 col0\" >41</td>\n",
       "                        <td id=\"T_423419eb_9fc8_11eb_bd9d_782b4632c2d2row6_col1\" class=\"data row6 col1\" >$3.60</td>\n",
       "                        <td id=\"T_423419eb_9fc8_11eb_bd9d_782b4632c2d2row6_col2\" class=\"data row6 col2\" >$147.67</td>\n",
       "                        <td id=\"T_423419eb_9fc8_11eb_bd9d_782b4632c2d2row6_col3\" class=\"data row6 col3\" >$4.76</td>\n",
       "            </tr>\n",
       "            <tr>\n",
       "                        <th id=\"T_423419eb_9fc8_11eb_bd9d_782b4632c2d2level0_row7\" class=\"row_heading level0 row7\" >40+</th>\n",
       "                        <td id=\"T_423419eb_9fc8_11eb_bd9d_782b4632c2d2row7_col0\" class=\"data row7 col0\" >13</td>\n",
       "                        <td id=\"T_423419eb_9fc8_11eb_bd9d_782b4632c2d2row7_col1\" class=\"data row7 col1\" >$2.94</td>\n",
       "                        <td id=\"T_423419eb_9fc8_11eb_bd9d_782b4632c2d2row7_col2\" class=\"data row7 col2\" >$38.24</td>\n",
       "                        <td id=\"T_423419eb_9fc8_11eb_bd9d_782b4632c2d2row7_col3\" class=\"data row7 col3\" >$3.19</td>\n",
       "            </tr>\n",
       "    </tbody></table>"
      ],
      "text/plain": [
       "<pandas.io.formats.style.Styler at 0x1c1f1955bb0>"
      ]
     },
     "execution_count": 12,
     "metadata": {},
     "output_type": "execute_result"
    }
   ],
   "source": [
    "# Count purchases by age group\n",
    "purchase_count_age = age_grouped[\"Purchase ID\"].count()\n",
    "purchase_count_age\n",
    "\n",
    "# Obtain average purchase price by age group \n",
    "avg_purchase_price_age = age_grouped[\"Price\"].mean()\n",
    "avg_purchase_price_age\n",
    "\n",
    "# Calculate total purchase value by age group \n",
    "total_purchase_value = age_grouped[\"Price\"].sum()\n",
    "total_purchase_value\n",
    "\n",
    "# Calculate the average purchase per person in the age group \n",
    "avg_purchase_per_person_age = total_purchase_value/total_count_age\n",
    "avg_purchase_per_person_age\n",
    "\n",
    "# Create a summary data frame with obtained values\n",
    "age_demographics = pd.DataFrame({\"Purchase Count\": purchase_count_age,\n",
    "                                 \"Average Purchase Price\": avg_purchase_price_age,\n",
    "                                 \"Total Purchase Value\":total_purchase_value,\n",
    "                                 \"Average Purchase Total per Person\": avg_purchase_per_person_age})\n",
    "age_demographics\n",
    "\n",
    "# Display data cleaner formatting\n",
    "age_demographics.style.format({\"Average Purchase Price\":\"${:,.2f}\",\n",
    "                               \"Total Purchase Value\":\"${:,.2f}\",\n",
    "                               \"Average Purchase Total per Person\":\"${:,.2f}\"})"
   ]
  },
  {
   "cell_type": "markdown",
   "metadata": {},
   "source": [
    "## Top Spenders"
   ]
  },
  {
   "cell_type": "markdown",
   "metadata": {},
   "source": [
    "* Run basic calculations to obtain the results in the table below\n",
    "\n",
    "\n",
    "* Create a summary data frame to hold the results\n",
    "\n",
    "\n",
    "* Sort the total purchase value column in descending order\n",
    "\n",
    "\n",
    "* Optional: give the displayed data cleaner formatting\n",
    "\n",
    "\n",
    "* Display a preview of the summary data frame\n",
    "\n"
   ]
  },
  {
   "cell_type": "code",
   "execution_count": 32,
   "metadata": {
    "scrolled": true
   },
   "outputs": [
    {
     "data": {
      "text/html": [
       "<div>\n",
       "<style scoped>\n",
       "    .dataframe tbody tr th:only-of-type {\n",
       "        vertical-align: middle;\n",
       "    }\n",
       "\n",
       "    .dataframe tbody tr th {\n",
       "        vertical-align: top;\n",
       "    }\n",
       "\n",
       "    .dataframe thead th {\n",
       "        text-align: right;\n",
       "    }\n",
       "</style>\n",
       "<table border=\"1\" class=\"dataframe\">\n",
       "  <thead>\n",
       "    <tr style=\"text-align: right;\">\n",
       "      <th></th>\n",
       "      <th>Purchase Count</th>\n",
       "      <th>Average Purchase Price</th>\n",
       "      <th>Total Purchase Value</th>\n",
       "    </tr>\n",
       "    <tr>\n",
       "      <th>SN</th>\n",
       "      <th></th>\n",
       "      <th></th>\n",
       "      <th></th>\n",
       "    </tr>\n",
       "  </thead>\n",
       "  <tbody>\n",
       "    <tr>\n",
       "      <th>Lisosia93</th>\n",
       "      <td>5</td>\n",
       "      <td>$3.79</td>\n",
       "      <td>$18.96</td>\n",
       "    </tr>\n",
       "    <tr>\n",
       "      <th>Idastidru52</th>\n",
       "      <td>4</td>\n",
       "      <td>$3.86</td>\n",
       "      <td>$15.45</td>\n",
       "    </tr>\n",
       "    <tr>\n",
       "      <th>Chamjask73</th>\n",
       "      <td>3</td>\n",
       "      <td>$4.61</td>\n",
       "      <td>$13.83</td>\n",
       "    </tr>\n",
       "    <tr>\n",
       "      <th>Iral74</th>\n",
       "      <td>4</td>\n",
       "      <td>$3.40</td>\n",
       "      <td>$13.62</td>\n",
       "    </tr>\n",
       "    <tr>\n",
       "      <th>Iskadarya95</th>\n",
       "      <td>3</td>\n",
       "      <td>$4.37</td>\n",
       "      <td>$13.10</td>\n",
       "    </tr>\n",
       "  </tbody>\n",
       "</table>\n",
       "</div>"
      ],
      "text/plain": [
       "             Purchase Count Average Purchase Price Total Purchase Value\n",
       "SN                                                                     \n",
       "Lisosia93                 5                  $3.79               $18.96\n",
       "Idastidru52               4                  $3.86               $15.45\n",
       "Chamjask73                3                  $4.61               $13.83\n",
       "Iral74                    4                  $3.40               $13.62\n",
       "Iskadarya95               3                  $4.37               $13.10"
      ]
     },
     "execution_count": 32,
     "metadata": {},
     "output_type": "execute_result"
    }
   ],
   "source": [
    "# basic calculations to obtain the results\n",
    "user_total = purchase_data.groupby([\"SN\"]).sum()[\"Price\"].rename(\"Total Purchase Value\")\n",
    "user_average = purchase_data.groupby([\"SN\"]).mean()[\"Price\"].rename(\"Average Purchase Price\")\n",
    "user_count = purchase_data.groupby([\"SN\"]).count()[\"Price\"].rename(\"Purchase Count\")\n",
    "\n",
    "# establishing DataFrame\n",
    "user_data = pd.DataFrame({\"Purchase Count\": user_count,\"Average Purchase Price\": user_average, \"Total Purchase Value\": user_total})\n",
    "\n",
    "# displaying the table\n",
    "sum_table_top_spenders=user_data.sort_values(\"Total Purchase Value\", ascending=False).head(5)\n",
    "\n",
    "# displayed data cleaner formatting\n",
    "sum_table_top_spenders[\"Average Purchase Price\"] = user_data[\"Average Purchase Price\"].map(\"${:,.2f}\".format)\n",
    "sum_table_top_spenders[\"Total Purchase Value\"] = user_data[\"Total Purchase Value\"].map(\"${:,.2f}\".format)\n",
    "sum_table_top_spenders"
   ]
  },
  {
   "cell_type": "markdown",
   "metadata": {},
   "source": [
    "## Most Popular Items"
   ]
  },
  {
   "cell_type": "markdown",
   "metadata": {},
   "source": [
    "* Retrieve the Item ID, Item Name, and Item Price columns\n",
    "\n",
    "\n",
    "* Group by Item ID and Item Name. Perform calculations to obtain purchase count, average item price, and total purchase value\n",
    "\n",
    "\n",
    "* Create a summary data frame to hold the results\n",
    "\n",
    "\n",
    "* Sort the purchase count column in descending order\n",
    "\n",
    "\n",
    "* Optional: give the displayed data cleaner formatting\n",
    "\n",
    "\n",
    "* Display a preview of the summary data frame\n",
    "\n"
   ]
  },
  {
   "cell_type": "code",
   "execution_count": 35,
   "metadata": {},
   "outputs": [
    {
     "data": {
      "text/html": [
       "<style  type=\"text/css\" >\n",
       "</style><table id=\"T_5cc0784f_9fcd_11eb_a3fc_782b4632c2d2\" ><thead>    <tr>        <th class=\"blank\" ></th>        <th class=\"blank level0\" ></th>        <th class=\"col_heading level0 col0\" >Purchase Count</th>        <th class=\"col_heading level0 col1\" >Item Price</th>        <th class=\"col_heading level0 col2\" >Total Purchase Value</th>    </tr>    <tr>        <th class=\"index_name level0\" >Item ID</th>        <th class=\"index_name level1\" >Item Name</th>        <th class=\"blank\" ></th>        <th class=\"blank\" ></th>        <th class=\"blank\" ></th>    </tr></thead><tbody>\n",
       "                <tr>\n",
       "                        <th id=\"T_5cc0784f_9fcd_11eb_a3fc_782b4632c2d2level0_row0\" class=\"row_heading level0 row0\" >92</th>\n",
       "                        <th id=\"T_5cc0784f_9fcd_11eb_a3fc_782b4632c2d2level1_row0\" class=\"row_heading level1 row0\" >Final Critic</th>\n",
       "                        <td id=\"T_5cc0784f_9fcd_11eb_a3fc_782b4632c2d2row0_col0\" class=\"data row0 col0\" >13</td>\n",
       "                        <td id=\"T_5cc0784f_9fcd_11eb_a3fc_782b4632c2d2row0_col1\" class=\"data row0 col1\" >$4.61</td>\n",
       "                        <td id=\"T_5cc0784f_9fcd_11eb_a3fc_782b4632c2d2row0_col2\" class=\"data row0 col2\" >$59.99</td>\n",
       "            </tr>\n",
       "            <tr>\n",
       "                        <th id=\"T_5cc0784f_9fcd_11eb_a3fc_782b4632c2d2level0_row1\" class=\"row_heading level0 row1\" >178</th>\n",
       "                        <th id=\"T_5cc0784f_9fcd_11eb_a3fc_782b4632c2d2level1_row1\" class=\"row_heading level1 row1\" >Oathbreaker, Last Hope of the Breaking Storm</th>\n",
       "                        <td id=\"T_5cc0784f_9fcd_11eb_a3fc_782b4632c2d2row1_col0\" class=\"data row1 col0\" >12</td>\n",
       "                        <td id=\"T_5cc0784f_9fcd_11eb_a3fc_782b4632c2d2row1_col1\" class=\"data row1 col1\" >$4.23</td>\n",
       "                        <td id=\"T_5cc0784f_9fcd_11eb_a3fc_782b4632c2d2row1_col2\" class=\"data row1 col2\" >$50.76</td>\n",
       "            </tr>\n",
       "            <tr>\n",
       "                        <th id=\"T_5cc0784f_9fcd_11eb_a3fc_782b4632c2d2level0_row2\" class=\"row_heading level0 row2\" >145</th>\n",
       "                        <th id=\"T_5cc0784f_9fcd_11eb_a3fc_782b4632c2d2level1_row2\" class=\"row_heading level1 row2\" >Fiery Glass Crusader</th>\n",
       "                        <td id=\"T_5cc0784f_9fcd_11eb_a3fc_782b4632c2d2row2_col0\" class=\"data row2 col0\" >9</td>\n",
       "                        <td id=\"T_5cc0784f_9fcd_11eb_a3fc_782b4632c2d2row2_col1\" class=\"data row2 col1\" >$4.58</td>\n",
       "                        <td id=\"T_5cc0784f_9fcd_11eb_a3fc_782b4632c2d2row2_col2\" class=\"data row2 col2\" >$41.22</td>\n",
       "            </tr>\n",
       "            <tr>\n",
       "                        <th id=\"T_5cc0784f_9fcd_11eb_a3fc_782b4632c2d2level0_row3\" class=\"row_heading level0 row3\" >132</th>\n",
       "                        <th id=\"T_5cc0784f_9fcd_11eb_a3fc_782b4632c2d2level1_row3\" class=\"row_heading level1 row3\" >Persuasion</th>\n",
       "                        <td id=\"T_5cc0784f_9fcd_11eb_a3fc_782b4632c2d2row3_col0\" class=\"data row3 col0\" >9</td>\n",
       "                        <td id=\"T_5cc0784f_9fcd_11eb_a3fc_782b4632c2d2row3_col1\" class=\"data row3 col1\" >$3.22</td>\n",
       "                        <td id=\"T_5cc0784f_9fcd_11eb_a3fc_782b4632c2d2row3_col2\" class=\"data row3 col2\" >$28.99</td>\n",
       "            </tr>\n",
       "            <tr>\n",
       "                        <th id=\"T_5cc0784f_9fcd_11eb_a3fc_782b4632c2d2level0_row4\" class=\"row_heading level0 row4\" >108</th>\n",
       "                        <th id=\"T_5cc0784f_9fcd_11eb_a3fc_782b4632c2d2level1_row4\" class=\"row_heading level1 row4\" >Extraction, Quickblade Of Trembling Hands</th>\n",
       "                        <td id=\"T_5cc0784f_9fcd_11eb_a3fc_782b4632c2d2row4_col0\" class=\"data row4 col0\" >9</td>\n",
       "                        <td id=\"T_5cc0784f_9fcd_11eb_a3fc_782b4632c2d2row4_col1\" class=\"data row4 col1\" >$3.53</td>\n",
       "                        <td id=\"T_5cc0784f_9fcd_11eb_a3fc_782b4632c2d2row4_col2\" class=\"data row4 col2\" >$31.77</td>\n",
       "            </tr>\n",
       "    </tbody></table>"
      ],
      "text/plain": [
       "<pandas.io.formats.style.Styler at 0x1c1f2ac5550>"
      ]
     },
     "execution_count": 35,
     "metadata": {},
     "output_type": "execute_result"
    }
   ],
   "source": [
    "# Create new data frame with items related information \n",
    "items = purchase_data[[\"Item ID\", \"Item Name\", \"Price\"]]\n",
    "\n",
    "# Group the item data by item id and item name \n",
    "item_stats = items.groupby([\"Item ID\",\"Item Name\"])\n",
    "\n",
    "# Count the number of times an item has been purchased \n",
    "purchase_count_item = item_stats[\"Price\"].count()\n",
    "\n",
    "# Calcualte the purchase value per item \n",
    "purchase_value = (item_stats[\"Price\"].sum()) \n",
    "\n",
    "# Find individual item price\n",
    "item_price = purchase_value/purchase_count_item\n",
    "\n",
    "# Create data frame with obtained values\n",
    "most_popular_items = pd.DataFrame({\"Purchase Count\": purchase_count_item, \n",
    "                                   \"Item Price\": item_price,\n",
    "                                   \"Total Purchase Value\":purchase_value})\n",
    "\n",
    "# Sort in descending order to obtain top spender names and provide top 5 item names\n",
    "popular_formatted = most_popular_items.sort_values([\"Purchase Count\"], ascending=False).head()\n",
    "\n",
    "# Format with currency style\n",
    "popular_formatted.style.format({\"Item Price\":\"${:,.2f}\",\n",
    "                                \"Total Purchase Value\":\"${:,.2f}\"})"
   ]
  },
  {
   "cell_type": "markdown",
   "metadata": {},
   "source": [
    "## Most Profitable Items"
   ]
  },
  {
   "cell_type": "markdown",
   "metadata": {},
   "source": [
    "* Sort the above table by total purchase value in descending order\n",
    "\n",
    "\n",
    "* Optional: give the displayed data cleaner formatting\n",
    "\n",
    "\n",
    "* Display a preview of the data frame\n",
    "\n"
   ]
  },
  {
   "cell_type": "code",
   "execution_count": 37,
   "metadata": {
    "scrolled": true
   },
   "outputs": [
    {
     "data": {
      "text/html": [
       "<style  type=\"text/css\" >\n",
       "</style><table id=\"T_ce3d0357_9fce_11eb_b8e0_782b4632c2d2\" ><thead>    <tr>        <th class=\"blank\" ></th>        <th class=\"blank level0\" ></th>        <th class=\"col_heading level0 col0\" >Purchase Count</th>        <th class=\"col_heading level0 col1\" >Item Price</th>        <th class=\"col_heading level0 col2\" >Total Purchase Value</th>    </tr>    <tr>        <th class=\"index_name level0\" >Item ID</th>        <th class=\"index_name level1\" >Item Name</th>        <th class=\"blank\" ></th>        <th class=\"blank\" ></th>        <th class=\"blank\" ></th>    </tr></thead><tbody>\n",
       "                <tr>\n",
       "                        <th id=\"T_ce3d0357_9fce_11eb_b8e0_782b4632c2d2level0_row0\" class=\"row_heading level0 row0\" >92</th>\n",
       "                        <th id=\"T_ce3d0357_9fce_11eb_b8e0_782b4632c2d2level1_row0\" class=\"row_heading level1 row0\" >Final Critic</th>\n",
       "                        <td id=\"T_ce3d0357_9fce_11eb_b8e0_782b4632c2d2row0_col0\" class=\"data row0 col0\" >13</td>\n",
       "                        <td id=\"T_ce3d0357_9fce_11eb_b8e0_782b4632c2d2row0_col1\" class=\"data row0 col1\" >$4.61</td>\n",
       "                        <td id=\"T_ce3d0357_9fce_11eb_b8e0_782b4632c2d2row0_col2\" class=\"data row0 col2\" >$59.99</td>\n",
       "            </tr>\n",
       "            <tr>\n",
       "                        <th id=\"T_ce3d0357_9fce_11eb_b8e0_782b4632c2d2level0_row1\" class=\"row_heading level0 row1\" >178</th>\n",
       "                        <th id=\"T_ce3d0357_9fce_11eb_b8e0_782b4632c2d2level1_row1\" class=\"row_heading level1 row1\" >Oathbreaker, Last Hope of the Breaking Storm</th>\n",
       "                        <td id=\"T_ce3d0357_9fce_11eb_b8e0_782b4632c2d2row1_col0\" class=\"data row1 col0\" >12</td>\n",
       "                        <td id=\"T_ce3d0357_9fce_11eb_b8e0_782b4632c2d2row1_col1\" class=\"data row1 col1\" >$4.23</td>\n",
       "                        <td id=\"T_ce3d0357_9fce_11eb_b8e0_782b4632c2d2row1_col2\" class=\"data row1 col2\" >$50.76</td>\n",
       "            </tr>\n",
       "            <tr>\n",
       "                        <th id=\"T_ce3d0357_9fce_11eb_b8e0_782b4632c2d2level0_row2\" class=\"row_heading level0 row2\" >82</th>\n",
       "                        <th id=\"T_ce3d0357_9fce_11eb_b8e0_782b4632c2d2level1_row2\" class=\"row_heading level1 row2\" >Nirvana</th>\n",
       "                        <td id=\"T_ce3d0357_9fce_11eb_b8e0_782b4632c2d2row2_col0\" class=\"data row2 col0\" >9</td>\n",
       "                        <td id=\"T_ce3d0357_9fce_11eb_b8e0_782b4632c2d2row2_col1\" class=\"data row2 col1\" >$4.90</td>\n",
       "                        <td id=\"T_ce3d0357_9fce_11eb_b8e0_782b4632c2d2row2_col2\" class=\"data row2 col2\" >$44.10</td>\n",
       "            </tr>\n",
       "            <tr>\n",
       "                        <th id=\"T_ce3d0357_9fce_11eb_b8e0_782b4632c2d2level0_row3\" class=\"row_heading level0 row3\" >145</th>\n",
       "                        <th id=\"T_ce3d0357_9fce_11eb_b8e0_782b4632c2d2level1_row3\" class=\"row_heading level1 row3\" >Fiery Glass Crusader</th>\n",
       "                        <td id=\"T_ce3d0357_9fce_11eb_b8e0_782b4632c2d2row3_col0\" class=\"data row3 col0\" >9</td>\n",
       "                        <td id=\"T_ce3d0357_9fce_11eb_b8e0_782b4632c2d2row3_col1\" class=\"data row3 col1\" >$4.58</td>\n",
       "                        <td id=\"T_ce3d0357_9fce_11eb_b8e0_782b4632c2d2row3_col2\" class=\"data row3 col2\" >$41.22</td>\n",
       "            </tr>\n",
       "            <tr>\n",
       "                        <th id=\"T_ce3d0357_9fce_11eb_b8e0_782b4632c2d2level0_row4\" class=\"row_heading level0 row4\" >103</th>\n",
       "                        <th id=\"T_ce3d0357_9fce_11eb_b8e0_782b4632c2d2level1_row4\" class=\"row_heading level1 row4\" >Singed Scalpel</th>\n",
       "                        <td id=\"T_ce3d0357_9fce_11eb_b8e0_782b4632c2d2row4_col0\" class=\"data row4 col0\" >8</td>\n",
       "                        <td id=\"T_ce3d0357_9fce_11eb_b8e0_782b4632c2d2row4_col1\" class=\"data row4 col1\" >$4.35</td>\n",
       "                        <td id=\"T_ce3d0357_9fce_11eb_b8e0_782b4632c2d2row4_col2\" class=\"data row4 col2\" >$34.80</td>\n",
       "            </tr>\n",
       "    </tbody></table>"
      ],
      "text/plain": [
       "<pandas.io.formats.style.Styler at 0x1c1f2ac5490>"
      ]
     },
     "execution_count": 37,
     "metadata": {},
     "output_type": "execute_result"
    }
   ],
   "source": [
    "# Table by total purchase value in descending order\n",
    "popular_formatted = most_popular_items.sort_values([\"Total Purchase Value\"],\n",
    "                                                   ascending=False).head()\n",
    "popular_formatted\n",
    "\n",
    "# Displayed data cleaner formatting\n",
    "popular_formatted.style.format({\"Item Price\":\"${:,.2f}\",\n",
    "                                \"Total Purchase Value\":\"${:,.2f}\"})"
   ]
  },
  {
   "cell_type": "code",
   "execution_count": null,
   "metadata": {},
   "outputs": [],
   "source": []
  }
 ],
 "metadata": {
  "anaconda-cloud": {},
  "kernel_info": {
   "name": "python3"
  },
  "kernelspec": {
   "display_name": "Python 3",
   "language": "python",
   "name": "python3"
  },
  "language_info": {
   "codemirror_mode": {
    "name": "ipython",
    "version": 3
   },
   "file_extension": ".py",
   "mimetype": "text/x-python",
   "name": "python",
   "nbconvert_exporter": "python",
   "pygments_lexer": "ipython3",
   "version": "3.8.5"
  },
  "latex_envs": {
   "LaTeX_envs_menu_present": true,
   "autoclose": false,
   "autocomplete": true,
   "bibliofile": "biblio.bib",
   "cite_by": "apalike",
   "current_citInitial": 1,
   "eqLabelWithNumbers": true,
   "eqNumInitial": 1,
   "hotkeys": {
    "equation": "Ctrl-E",
    "itemize": "Ctrl-I"
   },
   "labels_anchors": false,
   "latex_user_defs": false,
   "report_style_numbering": false,
   "user_envs_cfg": false
  },
  "nteract": {
   "version": "0.2.0"
  }
 },
 "nbformat": 4,
 "nbformat_minor": 2
}
